{
  "nbformat": 4,
  "nbformat_minor": 0,
  "metadata": {
    "colab": {
      "provenance": [],
      "include_colab_link": true
    },
    "kernelspec": {
      "name": "python3",
      "display_name": "Python 3"
    },
    "language_info": {
      "name": "python"
    }
  },
  "cells": [
    {
      "cell_type": "markdown",
      "metadata": {
        "id": "view-in-github",
        "colab_type": "text"
      },
      "source": [
        "<a href=\"https://colab.research.google.com/github/joshbrx/AIPhysCoder/blob/main/H%C3%A9ctor_Ejercicio_pr%C3%A1ctico.ipynb\" target=\"_parent\"><img src=\"https://colab.research.google.com/assets/colab-badge.svg\" alt=\"Open In Colab\"/></a>"
      ]
    },
    {
      "cell_type": "markdown",
      "source": [
        "### Python"
      ],
      "metadata": {
        "id": "YNm7RHVUpuBk"
      }
    },
    {
      "cell_type": "markdown",
      "source": [
        "Crear una lista con los números del 1 al 103"
      ],
      "metadata": {
        "id": "0l6VuXlF1PEZ"
      }
    },
    {
      "cell_type": "code",
      "source": [],
      "metadata": {
        "id": "Z6qQZb-E0f_E"
      },
      "execution_count": null,
      "outputs": []
    },
    {
      "cell_type": "markdown",
      "source": [
        "Crea dos strings con los valores **\"Buenos días\"** y **\", Tardes ya\"** y concaténalos"
      ],
      "metadata": {
        "id": "VG1A3fexCu7K"
      }
    },
    {
      "cell_type": "code",
      "source": [],
      "metadata": {
        "id": "ovHoKQE1CvIc"
      },
      "execution_count": null,
      "outputs": []
    },
    {
      "cell_type": "markdown",
      "source": [
        "Crea una lista elevando cada elemento de la lista *primos* al cuadrado\n"
      ],
      "metadata": {
        "id": "l4SxYdjM6P3H"
      }
    },
    {
      "cell_type": "code",
      "source": [
        "primos = [2, 3, 5, 7, 11, 13, 17, 19, 23]"
      ],
      "metadata": {
        "id": "34CquZbKyeXO"
      },
      "execution_count": null,
      "outputs": []
    },
    {
      "cell_type": "code",
      "source": [],
      "metadata": {
        "id": "TvT8d-jRz3jP"
      },
      "execution_count": null,
      "outputs": []
    },
    {
      "cell_type": "markdown",
      "source": [
        "Muestra los últimos 5 valores de la lista *primos*"
      ],
      "metadata": {
        "id": "ECgg8bZWq_ZY"
      }
    },
    {
      "cell_type": "code",
      "source": [],
      "metadata": {
        "id": "-U734NB01s71"
      },
      "execution_count": null,
      "outputs": []
    },
    {
      "cell_type": "markdown",
      "source": [
        "Declara una función que reciba como parámetro un número positivo y regrese *True* si el número es divisible entre 3\n",
        "\n",
        "Ejemplo:\n",
        "\n",
        "\n",
        "```\n",
        "func(3)\n",
        "> True\n",
        "\n",
        "func(2)\n",
        "> False\n",
        "\n",
        "```\n",
        "\n"
      ],
      "metadata": {
        "id": "szgMy9Mi1vTq"
      }
    },
    {
      "cell_type": "code",
      "source": [],
      "metadata": {
        "id": "ogr1b8Rm52Ub"
      },
      "execution_count": null,
      "outputs": []
    },
    {
      "cell_type": "markdown",
      "source": [
        "Con las siguientes listas crea un diccionario utilizando como llave la lista de numeros:\n",
        "\n",
        "\n",
        "```\n",
        "{1:'a', 2:'b', ...}\n",
        "```\n",
        "\n"
      ],
      "metadata": {
        "id": "B0o2LdO96oDk"
      }
    },
    {
      "cell_type": "code",
      "source": [
        "l_1 = ['a','b','c','d','e']\n",
        "l_2 = [1,2,3,4,5]"
      ],
      "metadata": {
        "id": "F4_KgqM76mnO"
      },
      "execution_count": null,
      "outputs": []
    },
    {
      "cell_type": "code",
      "source": [],
      "metadata": {
        "id": "6OhYf8jG51QZ"
      },
      "execution_count": null,
      "outputs": []
    },
    {
      "cell_type": "markdown",
      "source": [
        "Dada una lista de nombres encuentra el nombre que tenga la menor longitud e imprímelo\n"
      ],
      "metadata": {
        "id": "8i3FKItlxP3S"
      }
    },
    {
      "cell_type": "code",
      "source": [
        "nombres = ['Pedro', 'Maximiliano', 'Emlia', 'Argos', 'Iris', 'Vladimir', 'Gabriela']"
      ],
      "metadata": {
        "id": "i0fC5DQ9xOkK"
      },
      "execution_count": null,
      "outputs": []
    },
    {
      "cell_type": "code",
      "source": [],
      "metadata": {
        "id": "kNAqs3Vu50YX"
      },
      "execution_count": null,
      "outputs": []
    },
    {
      "cell_type": "markdown",
      "source": [
        "Crea una función lambda para filtrar en una nueva lista todos los números pares de la lista fibonacci"
      ],
      "metadata": {
        "id": "GhS3lvI4xHRW"
      }
    },
    {
      "cell_type": "code",
      "source": [
        "fibonacci = [1, 1, 2, 3, 5, 8, 13, 21, 34]"
      ],
      "metadata": {
        "id": "HuDM65R9507y"
      },
      "execution_count": null,
      "outputs": []
    },
    {
      "cell_type": "code",
      "source": [],
      "metadata": {
        "id": "gPhPjhNEuKg7"
      },
      "execution_count": null,
      "outputs": []
    },
    {
      "cell_type": "markdown",
      "source": [
        "# Linux"
      ],
      "metadata": {
        "id": "FitCv-Wkt6E_"
      }
    },
    {
      "cell_type": "markdown",
      "source": [
        "\n",
        "\n",
        "*   Listar el contenido de la carpeta sample_data\n",
        "*   Crear un directorio con su nombre *ej. Ricardo*\n",
        "*   Crear un archivo txt con su apellido *ej. Garcia.txt*\n",
        "*   Copiar el archivo sample_data/anscombe.json al directorio con su nombre![Screenshot_1.png](data:image/png;base64,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![Screenshot_1.png](data:image/png;base64,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))\n",
        "*   Mostrar los últimos 10 registros de el archivo sample_data/anscombe.json\n",
        "*   Eliminar el archivo california_housing_test.csv\n",
        "*   Renombrar el archivo sample_data/mnist_test.csv como sample_data/mnist_test_v2.csv\n",
        "\n"
      ],
      "metadata": {
        "id": "dBSftDPWt6AW"
      }
    },
    {
      "cell_type": "code",
      "source": [
        "!ls -R"
      ],
      "metadata": {
        "colab": {
          "base_uri": "https://localhost:8080/"
        },
        "id": "mVWMQaXht5Ta",
        "outputId": "67d19ecf-8c19-4a77-cfb5-79c295acb0a8"
      },
      "execution_count": null,
      "outputs": [
        {
          "output_type": "stream",
          "name": "stdout",
          "text": [
            ".:\n",
            "sample_data\n",
            "\n",
            "./sample_data:\n",
            "anscombe.json\t\t     california_housing_train.csv  mnist_train_small.csv\n",
            "california_housing_test.csv  mnist_test.csv\t\t   README.md\n"
          ]
        }
      ]
    },
    {
      "cell_type": "markdown",
      "source": [
        "### Extra"
      ],
      "metadata": {
        "id": "-txGi0SxyWuC"
      }
    },
    {
      "cell_type": "markdown",
      "source": [
        "*   ¿Qué permisos tiene el propietario del archivo?\n",
        "*   ¿Con qué comando se cambian los permisos del directorio?"
      ],
      "metadata": {
        "id": "tQFv5URvxn3h"
      }
    },
    {
      "cell_type": "markdown",
      "source": [
        "\n",
        "\n",
        "```\n",
        "$ ls -l\n",
        "drwxr-xr-x 1 Bluetab 197121 0 Jan 24 12:35 Bluetab/\n",
        "-rw-r--r-- 1 Bluetab 197121 0 Jan 24 12:34 Bluetab.txt\n",
        "```\n",
        "\n"
      ],
      "metadata": {
        "id": "lgHP5Z-Qwzbd"
      }
    },
    {
      "cell_type": "code",
      "source": [],
      "metadata": {
        "id": "SWJ0y0Qsq3RG"
      },
      "execution_count": null,
      "outputs": []
    },
    {
      "cell_type": "markdown",
      "source": [
        "# Spark - Pandas"
      ],
      "metadata": {
        "id": "owDUOftgpzCP"
      }
    },
    {
      "cell_type": "code",
      "source": [
        "!apt-get install openjdk-8-jdk-headless -qq > /dev/null\n",
        "!wget -q http://archive.apache.org/dist/spark/spark-3.1.1/spark-3.1.1-bin-hadoop3.2.tgz\n",
        "!tar xf spark-3.1.1-bin-hadoop3.2.tgz\n",
        "!pip install findspark\n",
        "!wget https://jacobceles.github.io/knowledge_repo/colab_and_pyspark/cars.csv"
      ],
      "metadata": {
        "id": "a9JsmDbJkxrw"
      },
      "execution_count": null,
      "outputs": []
    },
    {
      "cell_type": "code",
      "source": [
        "import os\n",
        "os.environ[\"JAVA_HOME\"] = \"/usr/lib/jvm/java-8-openjdk-amd64\"\n",
        "os.environ[\"SPARK_HOME\"] = \"/content/spark-3.1.1-bin-hadoop3.2\"\n",
        "import findspark\n",
        "findspark.init()"
      ],
      "metadata": {
        "id": "a049hg9oq05d"
      },
      "execution_count": null,
      "outputs": []
    },
    {
      "cell_type": "code",
      "source": [
        "from pyspark.sql import SparkSession\n",
        "from pyspark.sql.functions import isnan, when, count, concat, lit, col, length, max, avg\n",
        "from pyspark.sql.types import StructType,StructField, StringType\n",
        "\n",
        "import pandas as pd\n",
        "\n",
        "spark = SparkSession.builder.master(\"local[*]\").getOrCreate()"
      ],
      "metadata": {
        "id": "5n6sRdhfp3sf"
      },
      "execution_count": null,
      "outputs": []
    },
    {
      "cell_type": "code",
      "source": [
        "!ls"
      ],
      "metadata": {
        "id": "AYnrMVVgxFFZ"
      },
      "execution_count": null,
      "outputs": []
    },
    {
      "cell_type": "code",
      "source": [
        "!head --l 5 cars.csv"
      ],
      "metadata": {
        "id": "03KHZglZxIOS"
      },
      "execution_count": null,
      "outputs": []
    },
    {
      "cell_type": "markdown",
      "source": [
        "## Leer el archivo cars.csv como dataframe"
      ],
      "metadata": {
        "id": "NkQrUrNTxRge"
      }
    },
    {
      "cell_type": "code",
      "source": [
        "cars_df = spark.read.csv('cars.csv', header=True, sep=\";\", inferSchema=True)\n",
        "cars_pd_df = pd.read_csv('cars.csv', sep=';')"
      ],
      "metadata": {
        "id": "YuM8h9s4qhKW"
      },
      "execution_count": null,
      "outputs": []
    },
    {
      "cell_type": "markdown",
      "source": [
        "## Visualizar el dataframe"
      ],
      "metadata": {
        "id": "s1z864UXyaNk"
      }
    },
    {
      "cell_type": "code",
      "source": [],
      "metadata": {
        "id": "NndtsFQA99TY"
      },
      "execution_count": null,
      "outputs": []
    },
    {
      "cell_type": "markdown",
      "source": [
        "## Obtén el nombre de todos los carros (Car) que cuentan con 8 cilindros (`Cylinders`)"
      ],
      "metadata": {
        "id": "4RTVCmqYjYfa"
      }
    },
    {
      "cell_type": "code",
      "source": [],
      "metadata": {
        "id": "y9KbpetL9n45"
      },
      "execution_count": null,
      "outputs": []
    },
    {
      "cell_type": "markdown",
      "source": [
        "## Obtén el número de carros que son de origen (Origin) europeo (Europe)"
      ],
      "metadata": {
        "id": "ibbXH4BclR8S"
      }
    },
    {
      "cell_type": "code",
      "source": [],
      "metadata": {
        "id": "__S95uVe9npq"
      },
      "execution_count": null,
      "outputs": []
    },
    {
      "cell_type": "markdown",
      "source": [
        "## Obtén los caballos de fuerza (Horsepower) en promedio por cada año (Model) ordenados de forma acendente por año"
      ],
      "metadata": {
        "id": "9RtiTs32nTDk"
      }
    },
    {
      "cell_type": "code",
      "source": [],
      "metadata": {
        "id": "aC7rx4qh9nTe"
      },
      "execution_count": null,
      "outputs": []
    },
    {
      "cell_type": "markdown",
      "source": [
        "## Obtén el carro (Car) que tiene el máximo de aceleración (Acceleration)"
      ],
      "metadata": {
        "id": "aRwPGXMBzMPo"
      }
    },
    {
      "cell_type": "code",
      "source": [],
      "metadata": {
        "id": "-0zjPCYIxbim"
      },
      "execution_count": null,
      "outputs": []
    }
  ]
}